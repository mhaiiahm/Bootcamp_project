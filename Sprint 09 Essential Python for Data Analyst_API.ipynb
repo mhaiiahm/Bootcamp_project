{
  "cells": [
    {
      "cell_type": "markdown",
      "metadata": {
        "id": "GXKV8SyhLubc"
      },
      "source": [
        "# **HW Sprint 09 - Essential Python for Data Analyst**\n",
        "# **1.API**"
      ]
    },
    {
      "cell_type": "code",
      "execution_count": null,
      "metadata": {
        "id": "S-4sWgsYLPte"
      },
      "outputs": [],
      "source": [
        "import requests \n",
        "import time\n",
        "import pandas as pd "
      ]
    },
    {
      "cell_type": "code",
      "execution_count": null,
      "metadata": {
        "colab": {
          "base_uri": "https://localhost:8080/"
        },
        "id": "jjYxwe3ZMMS8",
        "outputId": "82b26561-76ac-4984-f00e-e894fe3b6fcd"
      },
      "outputs": [
        {
          "output_type": "stream",
          "name": "stdout",
          "text": [
            "{\"activity\":\"Explore the nightlife of your city\",\"type\":\"social\",\"participants\":1,\"price\":0.1,\"link\":\"\",\"key\":\"2237769\",\"accessibility\":0.32}\n"
          ]
        }
      ],
      "source": [
        "url = \"https://www.boredapi.com/api/activity/\"\n",
        "\n",
        "response = requests.get(url)\n",
        "\n",
        "print(response.text)"
      ]
    },
    {
      "cell_type": "code",
      "source": [
        "response.status_code"
      ],
      "metadata": {
        "colab": {
          "base_uri": "https://localhost:8080/"
        },
        "id": "r8-gAVnxFsce",
        "outputId": "c6a92800-7958-4c3a-f8e1-28d379b73bc1"
      },
      "execution_count": null,
      "outputs": [
        {
          "output_type": "execute_result",
          "data": {
            "text/plain": [
              "200"
            ]
          },
          "metadata": {},
          "execution_count": 79
        }
      ]
    },
    {
      "cell_type": "code",
      "source": [
        "activity = []\n",
        "type_ = []\n",
        "participants = []\n",
        "\n",
        "for i in range(1,11):\n",
        "  url = f\"https://www.boredapi.com/api/activity/\"\n",
        "  response = requests.get(url)\n",
        "  result = response.json()\n",
        "  print(response)\n",
        "  print(result)\n",
        "  activity.append(result['activity'])\n",
        "  type_.append(result['type'])\n",
        "  participants.append(result['participants'])\n",
        "  time.sleep(2)"
      ],
      "metadata": {
        "colab": {
          "base_uri": "https://localhost:8080/"
        },
        "id": "eA8fO2BSBtON",
        "outputId": "215a5842-2f74-4e1b-aa26-1af4671bdd0f"
      },
      "execution_count": null,
      "outputs": [
        {
          "output_type": "stream",
          "name": "stdout",
          "text": [
            "<Response [200]>\n",
            "{'activity': 'Go to a local thrift shop', 'type': 'recreational', 'participants': 1, 'price': 0.1, 'link': '', 'key': '8503795', 'accessibility': 0.2}\n",
            "<Response [200]>\n",
            "{'activity': 'Learn the Chinese erhu', 'type': 'music', 'participants': 1, 'price': 0.6, 'link': '', 'key': '2742452', 'accessibility': 0.4}\n",
            "<Response [200]>\n",
            "{'activity': 'Memorize the fifty states and their capitals', 'type': 'education', 'participants': 1, 'price': 0, 'link': '', 'key': '4179309', 'accessibility': 0}\n",
            "<Response [200]>\n",
            "{'activity': 'Watch a classic movie', 'type': 'recreational', 'participants': 1, 'price': 0.1, 'link': '', 'key': '8081693', 'accessibility': 0.1}\n",
            "<Response [200]>\n",
            "{'activity': 'Make a to-do list for your week', 'type': 'busywork', 'participants': 1, 'price': 0, 'link': '', 'key': '5920481', 'accessibility': 0.05}\n",
            "<Response [200]>\n",
            "{'activity': 'Shop at support your local farmers market', 'type': 'relaxation', 'participants': 1, 'price': 0.2, 'link': '', 'key': '8979931', 'accessibility': 0.1}\n",
            "<Response [200]>\n",
            "{'activity': 'Volunteer at your local food bank', 'type': 'charity', 'participants': 1, 'price': 0, 'link': '', 'key': '2055368', 'accessibility': 0.1}\n",
            "<Response [200]>\n",
            "{'activity': 'Learn how to french braid hair', 'type': 'education', 'participants': 1, 'price': 0, 'link': '', 'key': '8926492', 'accessibility': 0.1}\n",
            "<Response [200]>\n",
            "{'activity': 'Binge watch a trending series', 'type': 'recreational', 'participants': 1, 'price': 0.2, 'link': '', 'key': '5881647', 'accessibility': 0.2}\n",
            "<Response [200]>\n",
            "{'activity': 'Write a list of things you are grateful for', 'type': 'relaxation', 'participants': 1, 'price': 0, 'link': '', 'key': '2062010', 'accessibility': 0}\n"
          ]
        }
      ]
    },
    {
      "cell_type": "code",
      "source": [
        "df = pd.DataFrame({\"activity\":activity,\"type\":type_,\"participant\":participants})\n",
        "\n",
        "df"
      ],
      "metadata": {
        "colab": {
          "base_uri": "https://localhost:8080/",
          "height": 363
        },
        "id": "oBvDykTUI99B",
        "outputId": "42999988-32e5-439e-91d0-4e2a23f1222e"
      },
      "execution_count": null,
      "outputs": [
        {
          "output_type": "execute_result",
          "data": {
            "text/plain": [
              "                                       activity          type  participant\n",
              "0                     Go to a local thrift shop  recreational            1\n",
              "1                        Learn the Chinese erhu         music            1\n",
              "2  Memorize the fifty states and their capitals     education            1\n",
              "3                         Watch a classic movie  recreational            1\n",
              "4               Make a to-do list for your week      busywork            1\n",
              "5     Shop at support your local farmers market    relaxation            1\n",
              "6             Volunteer at your local food bank       charity            1\n",
              "7                Learn how to french braid hair     education            1\n",
              "8                 Binge watch a trending series  recreational            1\n",
              "9   Write a list of things you are grateful for    relaxation            1"
            ],
            "text/html": [
              "\n",
              "  <div id=\"df-44df9ef0-57e5-4631-891a-4994751d3cd0\">\n",
              "    <div class=\"colab-df-container\">\n",
              "      <div>\n",
              "<style scoped>\n",
              "    .dataframe tbody tr th:only-of-type {\n",
              "        vertical-align: middle;\n",
              "    }\n",
              "\n",
              "    .dataframe tbody tr th {\n",
              "        vertical-align: top;\n",
              "    }\n",
              "\n",
              "    .dataframe thead th {\n",
              "        text-align: right;\n",
              "    }\n",
              "</style>\n",
              "<table border=\"1\" class=\"dataframe\">\n",
              "  <thead>\n",
              "    <tr style=\"text-align: right;\">\n",
              "      <th></th>\n",
              "      <th>activity</th>\n",
              "      <th>type</th>\n",
              "      <th>participant</th>\n",
              "    </tr>\n",
              "  </thead>\n",
              "  <tbody>\n",
              "    <tr>\n",
              "      <th>0</th>\n",
              "      <td>Go to a local thrift shop</td>\n",
              "      <td>recreational</td>\n",
              "      <td>1</td>\n",
              "    </tr>\n",
              "    <tr>\n",
              "      <th>1</th>\n",
              "      <td>Learn the Chinese erhu</td>\n",
              "      <td>music</td>\n",
              "      <td>1</td>\n",
              "    </tr>\n",
              "    <tr>\n",
              "      <th>2</th>\n",
              "      <td>Memorize the fifty states and their capitals</td>\n",
              "      <td>education</td>\n",
              "      <td>1</td>\n",
              "    </tr>\n",
              "    <tr>\n",
              "      <th>3</th>\n",
              "      <td>Watch a classic movie</td>\n",
              "      <td>recreational</td>\n",
              "      <td>1</td>\n",
              "    </tr>\n",
              "    <tr>\n",
              "      <th>4</th>\n",
              "      <td>Make a to-do list for your week</td>\n",
              "      <td>busywork</td>\n",
              "      <td>1</td>\n",
              "    </tr>\n",
              "    <tr>\n",
              "      <th>5</th>\n",
              "      <td>Shop at support your local farmers market</td>\n",
              "      <td>relaxation</td>\n",
              "      <td>1</td>\n",
              "    </tr>\n",
              "    <tr>\n",
              "      <th>6</th>\n",
              "      <td>Volunteer at your local food bank</td>\n",
              "      <td>charity</td>\n",
              "      <td>1</td>\n",
              "    </tr>\n",
              "    <tr>\n",
              "      <th>7</th>\n",
              "      <td>Learn how to french braid hair</td>\n",
              "      <td>education</td>\n",
              "      <td>1</td>\n",
              "    </tr>\n",
              "    <tr>\n",
              "      <th>8</th>\n",
              "      <td>Binge watch a trending series</td>\n",
              "      <td>recreational</td>\n",
              "      <td>1</td>\n",
              "    </tr>\n",
              "    <tr>\n",
              "      <th>9</th>\n",
              "      <td>Write a list of things you are grateful for</td>\n",
              "      <td>relaxation</td>\n",
              "      <td>1</td>\n",
              "    </tr>\n",
              "  </tbody>\n",
              "</table>\n",
              "</div>\n",
              "      <button class=\"colab-df-convert\" onclick=\"convertToInteractive('df-44df9ef0-57e5-4631-891a-4994751d3cd0')\"\n",
              "              title=\"Convert this dataframe to an interactive table.\"\n",
              "              style=\"display:none;\">\n",
              "        \n",
              "  <svg xmlns=\"http://www.w3.org/2000/svg\" height=\"24px\"viewBox=\"0 0 24 24\"\n",
              "       width=\"24px\">\n",
              "    <path d=\"M0 0h24v24H0V0z\" fill=\"none\"/>\n",
              "    <path d=\"M18.56 5.44l.94 2.06.94-2.06 2.06-.94-2.06-.94-.94-2.06-.94 2.06-2.06.94zm-11 1L8.5 8.5l.94-2.06 2.06-.94-2.06-.94L8.5 2.5l-.94 2.06-2.06.94zm10 10l.94 2.06.94-2.06 2.06-.94-2.06-.94-.94-2.06-.94 2.06-2.06.94z\"/><path d=\"M17.41 7.96l-1.37-1.37c-.4-.4-.92-.59-1.43-.59-.52 0-1.04.2-1.43.59L10.3 9.45l-7.72 7.72c-.78.78-.78 2.05 0 2.83L4 21.41c.39.39.9.59 1.41.59.51 0 1.02-.2 1.41-.59l7.78-7.78 2.81-2.81c.8-.78.8-2.07 0-2.86zM5.41 20L4 18.59l7.72-7.72 1.47 1.35L5.41 20z\"/>\n",
              "  </svg>\n",
              "      </button>\n",
              "      \n",
              "  <style>\n",
              "    .colab-df-container {\n",
              "      display:flex;\n",
              "      flex-wrap:wrap;\n",
              "      gap: 12px;\n",
              "    }\n",
              "\n",
              "    .colab-df-convert {\n",
              "      background-color: #E8F0FE;\n",
              "      border: none;\n",
              "      border-radius: 50%;\n",
              "      cursor: pointer;\n",
              "      display: none;\n",
              "      fill: #1967D2;\n",
              "      height: 32px;\n",
              "      padding: 0 0 0 0;\n",
              "      width: 32px;\n",
              "    }\n",
              "\n",
              "    .colab-df-convert:hover {\n",
              "      background-color: #E2EBFA;\n",
              "      box-shadow: 0px 1px 2px rgba(60, 64, 67, 0.3), 0px 1px 3px 1px rgba(60, 64, 67, 0.15);\n",
              "      fill: #174EA6;\n",
              "    }\n",
              "\n",
              "    [theme=dark] .colab-df-convert {\n",
              "      background-color: #3B4455;\n",
              "      fill: #D2E3FC;\n",
              "    }\n",
              "\n",
              "    [theme=dark] .colab-df-convert:hover {\n",
              "      background-color: #434B5C;\n",
              "      box-shadow: 0px 1px 3px 1px rgba(0, 0, 0, 0.15);\n",
              "      filter: drop-shadow(0px 1px 2px rgba(0, 0, 0, 0.3));\n",
              "      fill: #FFFFFF;\n",
              "    }\n",
              "  </style>\n",
              "\n",
              "      <script>\n",
              "        const buttonEl =\n",
              "          document.querySelector('#df-44df9ef0-57e5-4631-891a-4994751d3cd0 button.colab-df-convert');\n",
              "        buttonEl.style.display =\n",
              "          google.colab.kernel.accessAllowed ? 'block' : 'none';\n",
              "\n",
              "        async function convertToInteractive(key) {\n",
              "          const element = document.querySelector('#df-44df9ef0-57e5-4631-891a-4994751d3cd0');\n",
              "          const dataTable =\n",
              "            await google.colab.kernel.invokeFunction('convertToInteractive',\n",
              "                                                     [key], {});\n",
              "          if (!dataTable) return;\n",
              "\n",
              "          const docLinkHtml = 'Like what you see? Visit the ' +\n",
              "            '<a target=\"_blank\" href=https://colab.research.google.com/notebooks/data_table.ipynb>data table notebook</a>'\n",
              "            + ' to learn more about interactive tables.';\n",
              "          element.innerHTML = '';\n",
              "          dataTable['output_type'] = 'display_data';\n",
              "          await google.colab.output.renderOutput(dataTable, element);\n",
              "          const docLink = document.createElement('div');\n",
              "          docLink.innerHTML = docLinkHtml;\n",
              "          element.appendChild(docLink);\n",
              "        }\n",
              "      </script>\n",
              "    </div>\n",
              "  </div>\n",
              "  "
            ]
          },
          "metadata": {},
          "execution_count": 124
        }
      ]
    }
  ],
  "metadata": {
    "colab": {
      "provenance": []
    },
    "kernelspec": {
      "display_name": "Python 3",
      "name": "python3"
    },
    "language_info": {
      "name": "python"
    }
  },
  "nbformat": 4,
  "nbformat_minor": 0
}