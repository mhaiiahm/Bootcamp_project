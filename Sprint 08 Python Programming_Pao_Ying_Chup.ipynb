{
  "nbformat": 4,
  "nbformat_minor": 0,
  "metadata": {
    "colab": {
      "provenance": []
    },
    "kernelspec": {
      "name": "python3",
      "display_name": "Python 3"
    },
    "language_info": {
      "name": "python"
    }
  },
  "cells": [
    {
      "cell_type": "code",
      "execution_count": null,
      "metadata": {
        "id": "NzGbLNAPj2P2"
      },
      "outputs": [],
      "source": [
        "#import random\n",
        "import random as rd"
      ]
    },
    {
      "cell_type": "code",
      "source": [
        "#Greeting\n",
        "print(\"Welcome to Pao-Ying-Chup Game!!!\")\n",
        "print(\"What is your name?\")\n",
        "player_name = input(\"Enter your name: \")\n",
        "print(f\"Hello! {player_name} nice to meet you\\n\")\n",
        "print(\"How to play?\")\n",
        "print(\"R:Rock\")\n",
        "print(\"S:Scissors\")\n",
        "print(\"P:Paper\")"
      ],
      "metadata": {
        "colab": {
          "base_uri": "https://localhost:8080/"
        },
        "id": "tI7aNXFMqSz7",
        "outputId": "b6839856-4016-43c0-af28-91120073cb0c"
      },
      "execution_count": null,
      "outputs": [
        {
          "output_type": "stream",
          "name": "stdout",
          "text": [
            "Welcome to Pao-Ying-Chup Game!!!\n",
            "What is your name?\n"
          ]
        }
      ]
    },
    {
      "cell_type": "code",
      "source": [
        "#set variables\n",
        "bot_set = [\"R\",\"S\",\"P\"]\n",
        "count = 0\n",
        "win = 0\n",
        "lose = 0\n",
        "draw = 0\n",
        "\n",
        "while True:\n",
        "    user_act = input(\"Enter R or S or P :\")\n",
        "    user_act = user_act.upper()\n",
        "    bot_act = rd.choice(bot_set)\n",
        "    print(f\"You select {user_act},Bot select {bot_act}\")\n",
        "\n",
        "#loop\n",
        "    if user_act == bot_act:\n",
        "        print(\"It's a draw!!!\")\n",
        "        draw +=1\n",
        "    elif user_act == \"R\" and bot_act ==\"P\":\n",
        "        print(\"You lose!!!\")\n",
        "        lose +=1\n",
        "    elif user_act == \"R\" and bot_act == \"S\":\n",
        "        print(\"You win!!!\")\n",
        "        win +=1\n",
        "    elif user_act == \"S\" and bot_act ==\"R\":\n",
        "        print(\"You lose!!!\")\n",
        "        lose +=1\n",
        "    elif user_act == \"S\" and bot_act == \"P\":\n",
        "        print(\"You win!!!\")\n",
        "        win +=1\n",
        "    elif user_act == \"P\" and bot_act ==\"S\":\n",
        "        print(\"You lose!!!\")\n",
        "        lose +=1\n",
        "    elif user_act == \"P\" and bot_act == \"R\":\n",
        "        print(\"You win!!!\")\n",
        "        win +=1\n",
        "    print(\"********************\")\n",
        "    print(\"Play again? (Y/N)\")\n",
        "    next_action = input().upper()\n",
        "    if next_action == \"N\":\n",
        "        break\n",
        "\n",
        "#Summary\n",
        "print(f\"You win:\",win, \"times\")\n",
        "print(f\"You lose:\",lose, \"times\")\n",
        "print(f\"You draw:\", draw, \"times\")\n",
        "print(\"See you again next time.\")"
      ],
      "metadata": {
        "colab": {
          "base_uri": "https://localhost:8080/"
        },
        "id": "I3G_MIwVqsqB",
        "outputId": "825c6098-3637-440d-e71f-dddfb690e7d6"
      },
      "execution_count": null,
      "outputs": [
        {
          "output_type": "stream",
          "name": "stdout",
          "text": [
            "Enter R or S or P :r\n",
            "You select R,Bot select P\n",
            "You lose!!!\n",
            "********************\n",
            "Play again? (Y/N)\n",
            "y\n",
            "Enter R or S or P :p\n",
            "You select P,Bot select R\n",
            "You win!!!\n",
            "********************\n",
            "Play again? (Y/N)\n",
            "y\n",
            "Enter R or S or P :s\n",
            "You select S,Bot select R\n",
            "You lose!!!\n",
            "********************\n",
            "Play again? (Y/N)\n",
            "n\n",
            "You win: 1 times\n",
            "You lose: 2 times\n",
            "You draw: 0 times\n",
            "See you again next time.\n"
          ]
        }
      ]
    }
  ]
}