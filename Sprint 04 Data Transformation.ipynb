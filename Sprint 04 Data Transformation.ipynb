{
 "cells":[
  {
   "cell_type":"markdown",
   "source":[
    "# **Homework nycflights13**"
   ],
   "attachments":{
    
   },
   "metadata":{
    "datalore":{
     "node_id":"z4XCJp6bftn6TB4kilt0PX",
     "type":"MD",
     "hide_input_from_viewers":false,
     "hide_output_from_viewers":false
    }
   }
  },
  {
   "cell_type":"code",
   "source":[
    "#Install Package\n",
    "install.packages(\"nycflights13\")"
   ],
   "execution_count":1,
   "outputs":[
    {
     "name":"stderr",
     "text":[
      "Updating HTML index of packages in '.Library'\n",
      "\n",
      "Making 'packages.html' ...\n",
      " done\n",
      "\n"
     ],
     "output_type":"stream"
    }
   ],
   "metadata":{
    "datalore":{
     "node_id":"Nj4MX8aZK38gThLPFTpVXV",
     "type":"CODE",
     "hide_input_from_viewers":false,
     "hide_output_from_viewers":false
    }
   }
  },
  {
   "cell_type":"code",
   "source":[
    "#Load Library\n",
    "library(nycflights13)\n",
    "library(dplyr)\n",
    "library(tidyverse)"
   ],
   "execution_count":2,
   "outputs":[
    {
     "name":"stderr",
     "text":[
      "\n",
      "Attaching package: ‘dplyr’\n",
      "\n",
      "\n",
      "The following objects are masked from ‘package:stats’:\n",
      "\n",
      "    filter, lag\n",
      "\n",
      "\n",
      "The following objects are masked from ‘package:base’:\n",
      "\n",
      "    intersect, setdiff, setequal, union\n",
      "\n",
      "\n",
      "Warning message in system(\"timedatectl\", intern = TRUE):\n",
      "“running command 'timedatectl' had status 1”\n",
      "Warning message:\n",
      "“Failed to locate timezone database”\n",
      "── \u001b[1mAttaching packages\u001b[22m ─────────────────────────────────────── tidyverse 1.3.1 ──\n",
      "\n",
      "\u001b[32m✔\u001b[39m \u001b[34mggplot2\u001b[39m 3.3.5     \u001b[32m✔\u001b[39m \u001b[34mpurrr  \u001b[39m 0.3.4\n",
      "\u001b[32m✔\u001b[39m \u001b[34mtibble \u001b[39m 3.1.5     \u001b[32m✔\u001b[39m \u001b[34mstringr\u001b[39m 1.4.0\n",
      "\u001b[32m✔\u001b[39m \u001b[34mtidyr  \u001b[39m 1.1.4     \u001b[32m✔\u001b[39m \u001b[34mforcats\u001b[39m 0.5.1\n",
      "\u001b[32m✔\u001b[39m \u001b[34mreadr  \u001b[39m 2.0.2     \n",
      "\n",
      "── \u001b[1mConflicts\u001b[22m ────────────────────────────────────────── tidyverse_conflicts() ──\n",
      "\u001b[31m✖\u001b[39m \u001b[34mdplyr\u001b[39m::\u001b[32mfilter()\u001b[39m  masks \u001b[34mstats\u001b[39m::filter()\n",
      "\u001b[31m✖\u001b[39m \u001b[34mpurrr\u001b[39m::\u001b[32mflatten()\u001b[39m masks \u001b[34mjsonlite\u001b[39m::flatten()\n",
      "\u001b[31m✖\u001b[39m \u001b[34mdplyr\u001b[39m::\u001b[32mlag()\u001b[39m     masks \u001b[34mstats\u001b[39m::lag()\n",
      "\n"
     ],
     "output_type":"stream"
    }
   ],
   "metadata":{
    "datalore":{
     "node_id":"NVTvhFgCYRNMmLZvfdqUOA",
     "type":"CODE",
     "hide_input_from_viewers":false,
     "hide_output_from_viewers":false
    }
   }
  },
  {
   "cell_type":"code",
   "source":[
    "#Show Data Sets\n",
    "data(package = \"nycflights13\")"
   ],
   "execution_count":3,
   "outputs":[
    {
     "data":{
      "text\/html":[
       "<h3>Data sets<\/h3>\n",
       "<table class=\"dataframe\">\n",
       "<caption>A data.frame: 5 × 3<\/caption>\n",
       "<thead>\n",
       "\t<tr><th scope=col>Package<\/th><th scope=col>Item<\/th><th scope=col>Title<\/th><\/tr>\n",
       "\t<tr><th scope=col>&lt;chr&gt;<\/th><th scope=col>&lt;chr&gt;<\/th><th scope=col>&lt;chr&gt;<\/th><\/tr>\n",
       "<\/thead>\n",
       "<tbody>\n",
       "\t<tr><td>nycflights13<\/td><td>airlines<\/td><td>Airline names.     <\/td><\/tr>\n",
       "\t<tr><td>nycflights13<\/td><td>airports<\/td><td>Airport metadata   <\/td><\/tr>\n",
       "\t<tr><td>nycflights13<\/td><td>flights <\/td><td>Flights data       <\/td><\/tr>\n",
       "\t<tr><td>nycflights13<\/td><td>planes  <\/td><td>Plane metadata.    <\/td><\/tr>\n",
       "\t<tr><td>nycflights13<\/td><td>weather <\/td><td>Hourly weather data<\/td><\/tr>\n",
       "<\/tbody>\n",
       "<\/table>\n",
       "\n"
      ]
     },
     "metadata":{
      
     },
     "output_type":"display_data"
    }
   ],
   "metadata":{
    "datalore":{
     "node_id":"947bHtfb4RsXy0Fc8zwfOh",
     "type":"CODE",
     "hide_input_from_viewers":false,
     "hide_output_from_viewers":false
    }
   }
  },
  {
   "cell_type":"code",
   "source":[
    "#Flights\n",
    "glimpse(flights)"
   ],
   "execution_count":4,
   "outputs":[
    {
     "name":"stdout",
     "text":[
      "Rows: 336,776\n",
      "Columns: 19\n",
      "$ year           \u001b[3m\u001b[90m<int>\u001b[39m\u001b[23m 2013, 2013, 2013, 2013, 2013, 2013, 2013, 2013, 2013, 2…\n",
      "$ month          \u001b[3m\u001b[90m<int>\u001b[39m\u001b[23m 1, 1, 1, 1, 1, 1, 1, 1, 1, 1, 1, 1, 1, 1, 1, 1, 1, 1, 1…\n",
      "$ day            \u001b[3m\u001b[90m<int>\u001b[39m\u001b[23m 1, 1, 1, 1, 1, 1, 1, 1, 1, 1, 1, 1, 1, 1, 1, 1, 1, 1, 1…\n",
      "$ dep_time       \u001b[3m\u001b[90m<int>\u001b[39m\u001b[23m 517, 533, 542, 544, 554, 554, 555, 557, 557, 558, 558, …\n",
      "$ sched_dep_time \u001b[3m\u001b[90m<int>\u001b[39m\u001b[23m 515, 529, 540, 545, 600, 558, 600, 600, 600, 600, 600, …\n",
      "$ dep_delay      \u001b[3m\u001b[90m<dbl>\u001b[39m\u001b[23m 2, 4, 2, -1, -6, -4, -5, -3, -3, -2, -2, -2, -2, -2, -1…\n",
      "$ arr_time       \u001b[3m\u001b[90m<int>\u001b[39m\u001b[23m 830, 850, 923, 1004, 812, 740, 913, 709, 838, 753, 849,…\n",
      "$ sched_arr_time \u001b[3m\u001b[90m<int>\u001b[39m\u001b[23m 819, 830, 850, 1022, 837, 728, 854, 723, 846, 745, 851,…\n",
      "$ arr_delay      \u001b[3m\u001b[90m<dbl>\u001b[39m\u001b[23m 11, 20, 33, -18, -25, 12, 19, -14, -8, 8, -2, -3, 7, -1…\n",
      "$ carrier        \u001b[3m\u001b[90m<chr>\u001b[39m\u001b[23m \"UA\", \"UA\", \"AA\", \"B6\", \"DL\", \"UA\", \"B6\", \"EV\", \"B6\", \"…\n",
      "$ flight         \u001b[3m\u001b[90m<int>\u001b[39m\u001b[23m 1545, 1714, 1141, 725, 461, 1696, 507, 5708, 79, 301, 4…\n",
      "$ tailnum        \u001b[3m\u001b[90m<chr>\u001b[39m\u001b[23m \"N14228\", \"N24211\", \"N619AA\", \"N804JB\", \"N668DN\", \"N394…\n",
      "$ origin         \u001b[3m\u001b[90m<chr>\u001b[39m\u001b[23m \"EWR\", \"LGA\", \"JFK\", \"JFK\", \"LGA\", \"EWR\", \"EWR\", \"LGA\",…\n",
      "$ dest           \u001b[3m\u001b[90m<chr>\u001b[39m\u001b[23m \"IAH\", \"IAH\", \"MIA\", \"BQN\", \"ATL\", \"ORD\", \"FLL\", \"IAD\",…\n",
      "$ air_time       \u001b[3m\u001b[90m<dbl>\u001b[39m\u001b[23m 227, 227, 160, 183, 116, 150, 158, 53, 140, 138, 149, 1…\n",
      "$ distance       \u001b[3m\u001b[90m<dbl>\u001b[39m\u001b[23m 1400, 1416, 1089, 1576, 762, 719, 1065, 229, 944, 733, …\n",
      "$ hour           \u001b[3m\u001b[90m<dbl>\u001b[39m\u001b[23m 5, 5, 5, 5, 6, 5, 6, 6, 6, 6, 6, 6, 6, 6, 6, 5, 6, 6, 6…\n",
      "$ minute         \u001b[3m\u001b[90m<dbl>\u001b[39m\u001b[23m 15, 29, 40, 45, 0, 58, 0, 0, 0, 0, 0, 0, 0, 0, 0, 59, 0…\n",
      "$ time_hour      \u001b[3m\u001b[90m<dttm>\u001b[39m\u001b[23m 2013-01-01 10:00:00, 2013-01-01 10:00:00, 2013-01-01 1…\n"
     ],
     "output_type":"stream"
    }
   ],
   "metadata":{
    "datalore":{
     "node_id":"LtCWyVZCTuyfXhdj2QjncK",
     "type":"CODE",
     "hide_input_from_viewers":false,
     "hide_output_from_viewers":false
    }
   }
  },
  {
   "cell_type":"code",
   "source":[
    "#Airlines\n",
    "glimpse(airlines)"
   ],
   "execution_count":5,
   "outputs":[
    {
     "name":"stdout",
     "text":[
      "Rows: 16\n",
      "Columns: 2\n",
      "$ carrier \u001b[3m\u001b[90m<chr>\u001b[39m\u001b[23m \"9E\", \"AA\", \"AS\", \"B6\", \"DL\", \"EV\", \"F9\", \"FL\", \"HA\", \"MQ\", \"O…\n",
      "$ name    \u001b[3m\u001b[90m<chr>\u001b[39m\u001b[23m \"Endeavor Air Inc.\", \"American Airlines Inc.\", \"Alaska Airline…\n"
     ],
     "output_type":"stream"
    }
   ],
   "metadata":{
    "datalore":{
     "node_id":"rmYuyLSn46nU2LeUEiLJXG",
     "type":"CODE",
     "hide_input_from_viewers":false,
     "hide_output_from_viewers":false
    }
   }
  },
  {
   "cell_type":"code",
   "source":[
    "#Airports\n",
    "glimpse(airports)"
   ],
   "execution_count":6,
   "outputs":[
    {
     "name":"stdout",
     "text":[
      "Rows: 1,458\n",
      "Columns: 8\n",
      "$ faa   \u001b[3m\u001b[90m<chr>\u001b[39m\u001b[23m \"04G\", \"06A\", \"06C\", \"06N\", \"09J\", \"0A9\", \"0G6\", \"0G7\", \"0P2\", \"…\n",
      "$ name  \u001b[3m\u001b[90m<chr>\u001b[39m\u001b[23m \"Lansdowne Airport\", \"Moton Field Municipal Airport\", \"Schaumbur…\n",
      "$ lat   \u001b[3m\u001b[90m<dbl>\u001b[39m\u001b[23m 41.13047, 32.46057, 41.98934, 41.43191, 31.07447, 36.37122, 41.4…\n",
      "$ lon   \u001b[3m\u001b[90m<dbl>\u001b[39m\u001b[23m -80.61958, -85.68003, -88.10124, -74.39156, -81.42778, -82.17342…\n",
      "$ alt   \u001b[3m\u001b[90m<dbl>\u001b[39m\u001b[23m 1044, 264, 801, 523, 11, 1593, 730, 492, 1000, 108, 409, 875, 10…\n",
      "$ tz    \u001b[3m\u001b[90m<dbl>\u001b[39m\u001b[23m -5, -6, -6, -5, -5, -5, -5, -5, -5, -8, -5, -6, -5, -5, -5, -5, …\n",
      "$ dst   \u001b[3m\u001b[90m<chr>\u001b[39m\u001b[23m \"A\", \"A\", \"A\", \"A\", \"A\", \"A\", \"A\", \"A\", \"U\", \"A\", \"A\", \"U\", \"A\",…\n",
      "$ tzone \u001b[3m\u001b[90m<chr>\u001b[39m\u001b[23m \"America\/New_York\", \"America\/Chicago\", \"America\/Chicago\", \"Ameri…\n"
     ],
     "output_type":"stream"
    }
   ],
   "metadata":{
    "datalore":{
     "node_id":"kKzihNJZPZJI9VWvR95T0p",
     "type":"CODE",
     "hide_input_from_viewers":false,
     "hide_output_from_viewers":false
    }
   }
  },
  {
   "cell_type":"code",
   "source":[
    "#Planes\n",
    "glimpse(planes)"
   ],
   "execution_count":7,
   "outputs":[
    {
     "name":"stdout",
     "text":[
      "Rows: 3,322\n",
      "Columns: 9\n",
      "$ tailnum      \u001b[3m\u001b[90m<chr>\u001b[39m\u001b[23m \"N10156\", \"N102UW\", \"N103US\", \"N104UW\", \"N10575\", \"N105UW…\n",
      "$ year         \u001b[3m\u001b[90m<int>\u001b[39m\u001b[23m 2004, 1998, 1999, 1999, 2002, 1999, 1999, 1999, 1999, 199…\n",
      "$ type         \u001b[3m\u001b[90m<chr>\u001b[39m\u001b[23m \"Fixed wing multi engine\", \"Fixed wing multi engine\", \"Fi…\n",
      "$ manufacturer \u001b[3m\u001b[90m<chr>\u001b[39m\u001b[23m \"EMBRAER\", \"AIRBUS INDUSTRIE\", \"AIRBUS INDUSTRIE\", \"AIRBU…\n",
      "$ model        \u001b[3m\u001b[90m<chr>\u001b[39m\u001b[23m \"EMB-145XR\", \"A320-214\", \"A320-214\", \"A320-214\", \"EMB-145…\n",
      "$ engines      \u001b[3m\u001b[90m<int>\u001b[39m\u001b[23m 2, 2, 2, 2, 2, 2, 2, 2, 2, 2, 2, 2, 2, 2, 2, 2, 2, 2, 2, …\n",
      "$ seats        \u001b[3m\u001b[90m<int>\u001b[39m\u001b[23m 55, 182, 182, 182, 55, 182, 182, 182, 182, 182, 55, 55, 5…\n",
      "$ speed        \u001b[3m\u001b[90m<int>\u001b[39m\u001b[23m NA, NA, NA, NA, NA, NA, NA, NA, NA, NA, NA, NA, NA, NA, N…\n",
      "$ engine       \u001b[3m\u001b[90m<chr>\u001b[39m\u001b[23m \"Turbo-fan\", \"Turbo-fan\", \"Turbo-fan\", \"Turbo-fan\", \"Turb…\n"
     ],
     "output_type":"stream"
    }
   ],
   "metadata":{
    "datalore":{
     "node_id":"McuPRYdFXhVQy1UPaYQMUm",
     "type":"CODE",
     "hide_input_from_viewers":false,
     "hide_output_from_viewers":false
    }
   }
  },
  {
   "cell_type":"code",
   "source":[
    "#Weather\n",
    "glimpse(weather)"
   ],
   "execution_count":9,
   "outputs":[
    {
     "name":"stdout",
     "text":[
      "Rows: 26,115\n",
      "Columns: 15\n",
      "$ origin     \u001b[3m\u001b[90m<chr>\u001b[39m\u001b[23m \"EWR\", \"EWR\", \"EWR\", \"EWR\", \"EWR\", \"EWR\", \"EWR\", \"EWR\", \"EW…\n",
      "$ year       \u001b[3m\u001b[90m<int>\u001b[39m\u001b[23m 2013, 2013, 2013, 2013, 2013, 2013, 2013, 2013, 2013, 2013,…\n",
      "$ month      \u001b[3m\u001b[90m<int>\u001b[39m\u001b[23m 1, 1, 1, 1, 1, 1, 1, 1, 1, 1, 1, 1, 1, 1, 1, 1, 1, 1, 1, 1,…\n",
      "$ day        \u001b[3m\u001b[90m<int>\u001b[39m\u001b[23m 1, 1, 1, 1, 1, 1, 1, 1, 1, 1, 1, 1, 1, 1, 1, 1, 1, 1, 1, 1,…\n",
      "$ hour       \u001b[3m\u001b[90m<int>\u001b[39m\u001b[23m 1, 2, 3, 4, 5, 6, 7, 8, 9, 10, 11, 13, 14, 15, 16, 17, 18, …\n",
      "$ temp       \u001b[3m\u001b[90m<dbl>\u001b[39m\u001b[23m 39.02, 39.02, 39.02, 39.92, 39.02, 37.94, 39.02, 39.92, 39.…\n",
      "$ dewp       \u001b[3m\u001b[90m<dbl>\u001b[39m\u001b[23m 26.06, 26.96, 28.04, 28.04, 28.04, 28.04, 28.04, 28.04, 28.…\n",
      "$ humid      \u001b[3m\u001b[90m<dbl>\u001b[39m\u001b[23m 59.37, 61.63, 64.43, 62.21, 64.43, 67.21, 64.43, 62.21, 62.…\n",
      "$ wind_dir   \u001b[3m\u001b[90m<dbl>\u001b[39m\u001b[23m 270, 250, 240, 250, 260, 240, 240, 250, 260, 260, 260, 330,…\n",
      "$ wind_speed \u001b[3m\u001b[90m<dbl>\u001b[39m\u001b[23m 10.35702, 8.05546, 11.50780, 12.65858, 12.65858, 11.50780, …\n",
      "$ wind_gust  \u001b[3m\u001b[90m<dbl>\u001b[39m\u001b[23m NA, NA, NA, NA, NA, NA, NA, NA, NA, NA, NA, NA, NA, NA, 20.…\n",
      "$ precip     \u001b[3m\u001b[90m<dbl>\u001b[39m\u001b[23m 0, 0, 0, 0, 0, 0, 0, 0, 0, 0, 0, 0, 0, 0, 0, 0, 0, 0, 0, 0,…\n",
      "$ pressure   \u001b[3m\u001b[90m<dbl>\u001b[39m\u001b[23m 1012.0, 1012.3, 1012.5, 1012.2, 1011.9, 1012.4, 1012.2, 101…\n",
      "$ visib      \u001b[3m\u001b[90m<dbl>\u001b[39m\u001b[23m 10, 10, 10, 10, 10, 10, 10, 10, 10, 10, 10, 10, 10, 10, 10,…\n",
      "$ time_hour  \u001b[3m\u001b[90m<dttm>\u001b[39m\u001b[23m 2013-01-01 06:00:00, 2013-01-01 07:00:00, 2013-01-01 08:00…\n"
     ],
     "output_type":"stream"
    }
   ],
   "metadata":{
    "datalore":{
     "node_id":"z1eCxNh39pCOzjGPgu3GqG",
     "type":"CODE",
     "hide_input_from_viewers":false,
     "hide_output_from_viewers":false
    }
   }
  },
  {
   "cell_type":"markdown",
   "source":[
    "**Q1 : What are top 5 airline in 2013?**\n",
    "\n",
    "Answer :    \n",
    "1.United Air Lines Inc.\n",
    "\n",
    "2.JetBlue Airways\n",
    "\n",
    "3.ExpressJet Airlines Inc.\n",
    "\n",
    "4.Delta Air Lines Inc.\n",
    "\n",
    "5.American AirLines Inc."
   ],
   "attachments":{
    
   },
   "metadata":{
    "datalore":{
     "node_id":"gacCvpElJjzkTVmPG0jv97",
     "type":"MD",
     "hide_input_from_viewers":false,
     "hide_output_from_viewers":false
    }
   }
  },
  {
   "cell_type":"code",
   "source":[
    "flights %>%\n",
    "left_join(airlines, by = \"carrier\") %>%\n",
    "group_by(name) %>%\n",
    "summarise(flights = n()) %>%\n",
    "arrange(desc(flights)) %>%\n",
    "head(5)"
   ],
   "execution_count":10,
   "outputs":[
    {
     "data":{
      "text\/html":[
       "<table class=\"dataframe\">\n",
       "<caption>A tibble: 5 × 2<\/caption>\n",
       "<thead>\n",
       "\t<tr><th scope=col>name<\/th><th scope=col>flights<\/th><\/tr>\n",
       "\t<tr><th scope=col>&lt;chr&gt;<\/th><th scope=col>&lt;int&gt;<\/th><\/tr>\n",
       "<\/thead>\n",
       "<tbody>\n",
       "\t<tr><td>United Air Lines Inc.   <\/td><td>58665<\/td><\/tr>\n",
       "\t<tr><td>JetBlue Airways         <\/td><td>54635<\/td><\/tr>\n",
       "\t<tr><td>ExpressJet Airlines Inc.<\/td><td>54173<\/td><\/tr>\n",
       "\t<tr><td>Delta Air Lines Inc.    <\/td><td>48110<\/td><\/tr>\n",
       "\t<tr><td>American Airlines Inc.  <\/td><td>32729<\/td><\/tr>\n",
       "<\/tbody>\n",
       "<\/table>\n"
      ]
     },
     "metadata":{
      
     },
     "output_type":"display_data"
    }
   ],
   "metadata":{
    "datalore":{
     "node_id":"1ZSQuX7S2anRAHg0ft4xXc",
     "type":"CODE",
     "hide_input_from_viewers":false,
     "hide_output_from_viewers":false
    }
   }
  },
  {
   "cell_type":"markdown",
   "source":[
    "**Q2 : What was the most canceled flight in 2013 ?**\n",
    "\n",
    "Answer : ExpressJet Airlines Inc."
   ],
   "attachments":{
    
   },
   "metadata":{
    "datalore":{
     "node_id":"sfrcj6jiYDmQxXAqGwmLto",
     "type":"MD",
     "hide_input_from_viewers":false,
     "hide_output_from_viewers":false
    }
   }
  },
  {
   "cell_type":"code",
   "source":[
    "flights %>%\n",
    "filter(is.na(dep_time)) %>%\n",
    "left_join(airlines, by = \"carrier\") %>%\n",
    "group_by(name) %>%\n",
    "summarise(canceled = n()) %>%\n",
    "arrange(desc(canceled)) %>%\n",
    "head(5)"
   ],
   "execution_count":11,
   "outputs":[
    {
     "data":{
      "text\/html":[
       "<table class=\"dataframe\">\n",
       "<caption>A tibble: 5 × 2<\/caption>\n",
       "<thead>\n",
       "\t<tr><th scope=col>name<\/th><th scope=col>canceled<\/th><\/tr>\n",
       "\t<tr><th scope=col>&lt;chr&gt;<\/th><th scope=col>&lt;int&gt;<\/th><\/tr>\n",
       "<\/thead>\n",
       "<tbody>\n",
       "\t<tr><td>ExpressJet Airlines Inc.<\/td><td>2817<\/td><\/tr>\n",
       "\t<tr><td>Envoy Air               <\/td><td>1234<\/td><\/tr>\n",
       "\t<tr><td>Endeavor Air Inc.       <\/td><td>1044<\/td><\/tr>\n",
       "\t<tr><td>United Air Lines Inc.   <\/td><td> 686<\/td><\/tr>\n",
       "\t<tr><td>US Airways Inc.         <\/td><td> 663<\/td><\/tr>\n",
       "<\/tbody>\n",
       "<\/table>\n"
      ]
     },
     "metadata":{
      
     },
     "output_type":"display_data"
    }
   ],
   "metadata":{
    "datalore":{
     "node_id":"7gQI9KHIB9yfocgJBmeykB",
     "type":"CODE",
     "hide_input_from_viewers":false,
     "hide_output_from_viewers":false
    }
   }
  },
  {
   "cell_type":"markdown",
   "source":[
    "**Q3: What was the most aircraft manufacturer in 2013?**\n",
    "\n",
    "Answer : BOEING"
   ],
   "attachments":{
    
   },
   "metadata":{
    "datalore":{
     "node_id":"1apH2qOzCC4IjwBGIkHmIw",
     "type":"MD",
     "hide_input_from_viewers":false,
     "hide_output_from_viewers":false
    }
   }
  },
  {
   "cell_type":"code",
   "source":[
    "flights %>%\n",
    "count(tailnum) %>%\n",
    "inner_join(planes, by = \"tailnum\") %>%\n",
    "select(tailnum, n, manufacturer)\n",
    "\n",
    "result <- aggregate(pop_tai$n, by = list(manufacturer = pop_tai$manufacturer),sum) %>%\n",
    "rename(count_flights = x) %>%\n",
    "arrange(desc(count_flights)) %>%\n",
    "head(5)\n",
    "\n",
    "view(result)"
   ],
   "execution_count":26,
   "outputs":[
    {
     "data":{
      "text\/html":[
       "<table class=\"dataframe\">\n",
       "<caption>A tibble: 3322 × 3<\/caption>\n",
       "<thead>\n",
       "\t<tr><th scope=col>tailnum<\/th><th scope=col>n<\/th><th scope=col>manufacturer<\/th><\/tr>\n",
       "\t<tr><th scope=col>&lt;chr&gt;<\/th><th scope=col>&lt;int&gt;<\/th><th scope=col>&lt;chr&gt;<\/th><\/tr>\n",
       "<\/thead>\n",
       "<tbody>\n",
       "\t<tr><td>N10156<\/td><td>153<\/td><td>EMBRAER         <\/td><\/tr>\n",
       "\t<tr><td>N102UW<\/td><td> 48<\/td><td>AIRBUS INDUSTRIE<\/td><\/tr>\n",
       "\t<tr><td>N103US<\/td><td> 46<\/td><td>AIRBUS INDUSTRIE<\/td><\/tr>\n",
       "\t<tr><td>N104UW<\/td><td> 47<\/td><td>AIRBUS INDUSTRIE<\/td><\/tr>\n",
       "\t<tr><td>N10575<\/td><td>289<\/td><td>EMBRAER         <\/td><\/tr>\n",
       "\t<tr><td>N105UW<\/td><td> 45<\/td><td>AIRBUS INDUSTRIE<\/td><\/tr>\n",
       "\t<tr><td>N107US<\/td><td> 41<\/td><td>AIRBUS INDUSTRIE<\/td><\/tr>\n",
       "\t<tr><td>N108UW<\/td><td> 60<\/td><td>AIRBUS INDUSTRIE<\/td><\/tr>\n",
       "\t<tr><td>N109UW<\/td><td> 48<\/td><td>AIRBUS INDUSTRIE<\/td><\/tr>\n",
       "\t<tr><td>N110UW<\/td><td> 40<\/td><td>AIRBUS INDUSTRIE<\/td><\/tr>\n",
       "\t<tr><td>N11106<\/td><td>129<\/td><td>EMBRAER         <\/td><\/tr>\n",
       "\t<tr><td>N11107<\/td><td>148<\/td><td>EMBRAER         <\/td><\/tr>\n",
       "\t<tr><td>N11109<\/td><td>148<\/td><td>EMBRAER         <\/td><\/tr>\n",
       "\t<tr><td>N11113<\/td><td>138<\/td><td>EMBRAER         <\/td><\/tr>\n",
       "\t<tr><td>N11119<\/td><td>148<\/td><td>EMBRAER         <\/td><\/tr>\n",
       "\t<tr><td>N11121<\/td><td>154<\/td><td>EMBRAER         <\/td><\/tr>\n",
       "\t<tr><td>N11127<\/td><td>124<\/td><td>EMBRAER         <\/td><\/tr>\n",
       "\t<tr><td>N11137<\/td><td>112<\/td><td>EMBRAER         <\/td><\/tr>\n",
       "\t<tr><td>N11140<\/td><td>157<\/td><td>EMBRAER         <\/td><\/tr>\n",
       "\t<tr><td>N11150<\/td><td>136<\/td><td>EMBRAER         <\/td><\/tr>\n",
       "\t<tr><td>N11155<\/td><td> 98<\/td><td>EMBRAER         <\/td><\/tr>\n",
       "\t<tr><td>N11164<\/td><td>143<\/td><td>EMBRAER         <\/td><\/tr>\n",
       "\t<tr><td>N11165<\/td><td>159<\/td><td>EMBRAER         <\/td><\/tr>\n",
       "\t<tr><td>N11176<\/td><td>142<\/td><td>EMBRAER         <\/td><\/tr>\n",
       "\t<tr><td>N11181<\/td><td>125<\/td><td>EMBRAER         <\/td><\/tr>\n",
       "\t<tr><td>N11184<\/td><td>136<\/td><td>EMBRAER         <\/td><\/tr>\n",
       "\t<tr><td>N11187<\/td><td>133<\/td><td>EMBRAER         <\/td><\/tr>\n",
       "\t<tr><td>N11189<\/td><td>140<\/td><td>EMBRAER         <\/td><\/tr>\n",
       "\t<tr><td>N11191<\/td><td>136<\/td><td>EMBRAER         <\/td><\/tr>\n",
       "\t<tr><td>N11192<\/td><td>154<\/td><td>EMBRAER         <\/td><\/tr>\n",
       "\t<tr><td>⋮<\/td><td>⋮<\/td><td>⋮<\/td><\/tr>\n",
       "\t<tr><td>N984DL<\/td><td> 58<\/td><td>MCDONNELL DOUGLAS AIRCRAFT CO<\/td><\/tr>\n",
       "\t<tr><td>N985AT<\/td><td> 29<\/td><td>BOEING                       <\/td><\/tr>\n",
       "\t<tr><td>N985DL<\/td><td> 63<\/td><td>MCDONNELL DOUGLAS AIRCRAFT CO<\/td><\/tr>\n",
       "\t<tr><td>N986AT<\/td><td> 24<\/td><td>BOEING                       <\/td><\/tr>\n",
       "\t<tr><td>N986DL<\/td><td> 73<\/td><td>MCDONNELL DOUGLAS AIRCRAFT CO<\/td><\/tr>\n",
       "\t<tr><td>N987AT<\/td><td> 28<\/td><td>BOEING                       <\/td><\/tr>\n",
       "\t<tr><td>N987DL<\/td><td> 55<\/td><td>MCDONNELL DOUGLAS AIRCRAFT CO<\/td><\/tr>\n",
       "\t<tr><td>N988AT<\/td><td> 37<\/td><td>BOEING                       <\/td><\/tr>\n",
       "\t<tr><td>N988DL<\/td><td> 55<\/td><td>MCDONNELL DOUGLAS AIRCRAFT CO<\/td><\/tr>\n",
       "\t<tr><td>N989AT<\/td><td> 66<\/td><td>BOEING                       <\/td><\/tr>\n",
       "\t<tr><td>N989DL<\/td><td> 89<\/td><td>MCDONNELL DOUGLAS AIRCRAFT CO<\/td><\/tr>\n",
       "\t<tr><td>N990AT<\/td><td> 71<\/td><td>BOEING                       <\/td><\/tr>\n",
       "\t<tr><td>N990DL<\/td><td> 56<\/td><td>MCDONNELL DOUGLAS AIRCRAFT CO<\/td><\/tr>\n",
       "\t<tr><td>N991AT<\/td><td> 25<\/td><td>BOEING                       <\/td><\/tr>\n",
       "\t<tr><td>N991DL<\/td><td> 92<\/td><td>MCDONNELL DOUGLAS AIRCRAFT CO<\/td><\/tr>\n",
       "\t<tr><td>N992AT<\/td><td> 38<\/td><td>BOEING                       <\/td><\/tr>\n",
       "\t<tr><td>N992DL<\/td><td> 57<\/td><td>MCDONNELL DOUGLAS AIRCRAFT CO<\/td><\/tr>\n",
       "\t<tr><td>N993AT<\/td><td> 47<\/td><td>BOEING                       <\/td><\/tr>\n",
       "\t<tr><td>N993DL<\/td><td> 55<\/td><td>MCDONNELL DOUGLAS AIRCRAFT CO<\/td><\/tr>\n",
       "\t<tr><td>N994AT<\/td><td> 31<\/td><td>BOEING                       <\/td><\/tr>\n",
       "\t<tr><td>N994DL<\/td><td> 61<\/td><td>MCDONNELL DOUGLAS CORPORATION<\/td><\/tr>\n",
       "\t<tr><td>N995AT<\/td><td> 18<\/td><td>BOEING                       <\/td><\/tr>\n",
       "\t<tr><td>N995DL<\/td><td> 57<\/td><td>MCDONNELL DOUGLAS AIRCRAFT CO<\/td><\/tr>\n",
       "\t<tr><td>N996AT<\/td><td> 29<\/td><td>BOEING                       <\/td><\/tr>\n",
       "\t<tr><td>N996DL<\/td><td>102<\/td><td>MCDONNELL DOUGLAS AIRCRAFT CO<\/td><\/tr>\n",
       "\t<tr><td>N997AT<\/td><td> 44<\/td><td>BOEING                       <\/td><\/tr>\n",
       "\t<tr><td>N997DL<\/td><td> 63<\/td><td>MCDONNELL DOUGLAS AIRCRAFT CO<\/td><\/tr>\n",
       "\t<tr><td>N998AT<\/td><td> 26<\/td><td>BOEING                       <\/td><\/tr>\n",
       "\t<tr><td>N998DL<\/td><td> 77<\/td><td>MCDONNELL DOUGLAS CORPORATION<\/td><\/tr>\n",
       "\t<tr><td>N999DN<\/td><td> 61<\/td><td>MCDONNELL DOUGLAS CORPORATION<\/td><\/tr>\n",
       "<\/tbody>\n",
       "<\/table>\n"
      ]
     },
     "metadata":{
      
     },
     "output_type":"display_data"
    }
   ],
   "metadata":{
    "datalore":{
     "node_id":"fEFMAIWaiKLWoLihEuhQ6X",
     "type":"CODE",
     "hide_input_from_viewers":false,
     "hide_output_from_viewers":false
    }
   }
  },
  {
   "cell_type":"markdown",
   "source":[
    "**Q4 : What are the top 5 months in NYC 2013?**\n",
    "\n",
    "Answer : \n",
    "\n",
    "1.July 2013\n",
    "\n",
    "2.August 2013\n",
    "\n",
    "3.October 2013\n",
    "\n",
    "4.March 2013\n",
    "\n",
    "5.May 2013"
   ],
   "attachments":{
    
   },
   "metadata":{
    "datalore":{
     "node_id":"OVK5iBxq3PQus8nFAlDaiy",
     "type":"MD",
     "hide_input_from_viewers":false,
     "hide_output_from_viewers":false
    }
   }
  },
  {
   "cell_type":"code",
   "source":[
    "flights %>%\n",
    "count(month) %>%\n",
    "rename(count=n) %>%\n",
    "arrange(desc(count)) %>%\n",
    "head(5)"
   ],
   "execution_count":174,
   "outputs":[
    {
     "data":{
      "text\/html":[
       "<table class=\"dataframe\">\n",
       "<caption>A tibble: 5 × 2<\/caption>\n",
       "<thead>\n",
       "\t<tr><th scope=col>month<\/th><th scope=col>count<\/th><\/tr>\n",
       "\t<tr><th scope=col>&lt;int&gt;<\/th><th scope=col>&lt;int&gt;<\/th><\/tr>\n",
       "<\/thead>\n",
       "<tbody>\n",
       "\t<tr><td> 7<\/td><td>29425<\/td><\/tr>\n",
       "\t<tr><td> 8<\/td><td>29327<\/td><\/tr>\n",
       "\t<tr><td>10<\/td><td>28889<\/td><\/tr>\n",
       "\t<tr><td> 3<\/td><td>28834<\/td><\/tr>\n",
       "\t<tr><td> 5<\/td><td>28796<\/td><\/tr>\n",
       "<\/tbody>\n",
       "<\/table>\n"
      ]
     },
     "metadata":{
      
     },
     "output_type":"display_data"
    }
   ],
   "metadata":{
    "datalore":{
     "node_id":"YkTlV9baDZcTOjyKftuFRr",
     "type":"CODE",
     "hide_input_from_viewers":false,
     "hide_output_from_viewers":false
    }
   }
  },
  {
   "cell_type":"markdown",
   "source":[
    "**Q5 : Which airlines had top 5 arrived delay in 2013?**\n",
    "\n",
    "Answer : Top 5 arrived delay in 2013\n",
    "\n",
    "1.Virgin America\n",
    "\n",
    "2.Virgin America\n",
    "\n",
    "3.United Air Lines Inc.\n",
    "\n",
    "4.American Airlines Inc.\n",
    "\n",
    "5.Alaska Airlines Inc."
   ],
   "attachments":{
    
   },
   "metadata":{
    "datalore":{
     "node_id":"bwnRhnydNZ65wVDCGPgbIJ",
     "type":"MD",
     "hide_input_from_viewers":false,
     "hide_output_from_viewers":false
    }
   }
  },
  {
   "cell_type":"code",
   "source":[
    "flights %>%\n",
    "select(carrier, arr_delay,month) %>%\n",
    "arrange(arr_delay) %>%\n",
    "head(5) %>%\n",
    "inner_join(airlines, by=\"carrier\")"
   ],
   "execution_count":39,
   "outputs":[
    {
     "data":{
      "text\/html":[
       "<table class=\"dataframe\">\n",
       "<caption>A tibble: 5 × 4<\/caption>\n",
       "<thead>\n",
       "\t<tr><th scope=col>carrier<\/th><th scope=col>arr_delay<\/th><th scope=col>month<\/th><th scope=col>name<\/th><\/tr>\n",
       "\t<tr><th scope=col>&lt;chr&gt;<\/th><th scope=col>&lt;dbl&gt;<\/th><th scope=col>&lt;int&gt;<\/th><th scope=col>&lt;chr&gt;<\/th><\/tr>\n",
       "<\/thead>\n",
       "<tbody>\n",
       "\t<tr><td>VX<\/td><td>-86<\/td><td>5<\/td><td>Virgin America        <\/td><\/tr>\n",
       "\t<tr><td>VX<\/td><td>-79<\/td><td>5<\/td><td>Virgin America        <\/td><\/tr>\n",
       "\t<tr><td>UA<\/td><td>-75<\/td><td>5<\/td><td>United Air Lines Inc. <\/td><\/tr>\n",
       "\t<tr><td>AA<\/td><td>-75<\/td><td>5<\/td><td>American Airlines Inc.<\/td><\/tr>\n",
       "\t<tr><td>AS<\/td><td>-74<\/td><td>5<\/td><td>Alaska Airlines Inc.  <\/td><\/tr>\n",
       "<\/tbody>\n",
       "<\/table>\n"
      ]
     },
     "metadata":{
      
     },
     "output_type":"display_data"
    }
   ],
   "metadata":{
    "datalore":{
     "node_id":"leoaKy79B3KynJ3jzFR0ui",
     "type":"CODE",
     "hide_input_from_viewers":false,
     "hide_output_from_viewers":false
    }
   }
  },
  {
   "cell_type":"markdown",
   "source":[
    "# **PostgreSQL Database**"
   ],
   "attachments":{
    
   },
   "metadata":{
    "datalore":{
     "node_id":"bLtTzC0z2Z7RAHm8Ap041t",
     "type":"MD",
     "hide_input_from_viewers":false,
     "hide_output_from_viewers":false
    }
   }
  },
  {
   "cell_type":"code",
   "source":[
    "#Install Package\n",
    "install.packages(\"RPostgreSQL\")"
   ],
   "execution_count":43,
   "outputs":[
    {
     "name":"stderr",
     "text":[
      "Warning message in install.packages(\"RPostgreSQL\"):\n",
      "“installation of package ‘RPostgreSQL’ had non-zero exit status”\n",
      "Updating HTML index of packages in '.Library'\n",
      "\n",
      "Making 'packages.html' ...\n",
      " done\n",
      "\n"
     ],
     "output_type":"stream"
    }
   ],
   "metadata":{
    "datalore":{
     "node_id":"pjaFXVpkwmw42h2FdPh8UW",
     "type":"CODE",
     "hide_input_from_viewers":false,
     "hide_output_from_viewers":false
    }
   }
  },
  {
   "cell_type":"code",
   "source":[
    "#Load Library\n",
    "library(RPostgreSQL)"
   ],
   "execution_count":44,
   "outputs":[
    {
     "ename":"ERROR",
     "evalue":"ERROR: Error in library(RPostgreSQL): there is no package called ‘RPostgreSQL’\n",
     "traceback":[
      "\u001b[0;31m---------------------------------------------------------------------------",
      "Traceback (most recent call last)",
      "ERROR: Error in library(RPostgreSQL): there is no package called ‘RPostgreSQL’\n"
     ],
     "output_type":"error"
    }
   ],
   "metadata":{
    "datalore":{
     "node_id":"YBCRRHf5SxttZOie8jcYCD",
     "type":"CODE",
     "hide_input_from_viewers":false,
     "hide_output_from_viewers":false
    }
   }
  },
  {
   "cell_type":"code",
   "source":[
    "#Connect Server\n",
    "con <- dbConnect(\n",
    "    PostgreSQL(),\n",
    "    host = \"arjuna.db.elephantsql.com\",\n",
    "    dbname = \"llgdruhc\",\n",
    "    port = 5432,\n",
    "    user = \"llgdruhc\",\n",
    "    password = \"wBYMYJshZyuhP5UbZWGGQCFcK5MSCwKV\"\n",
    ")"
   ],
   "execution_count":45,
   "outputs":[
    {
     "ename":"ERROR",
     "evalue":"ERROR: Error in dbConnect(PostgreSQL(), host = \"arjuna.db.elephantsql.com\", dbname = \"llgdruhc\", : could not find function \"dbConnect\"\n",
     "traceback":[
      "\u001b[0;31m---------------------------------------------------------------------------",
      "Traceback (most recent call last)",
      "ERROR: Error in dbConnect(PostgreSQL(), host = \"arjuna.db.elephantsql.com\", dbname = \"llgdruhc\", : could not find function \"dbConnect\"\n"
     ],
     "output_type":"error"
    }
   ],
   "metadata":{
    "datalore":{
     "node_id":"63EMPmoin4nysEY9nttsiS",
     "type":"CODE",
     "hide_input_from_viewers":false,
     "hide_output_from_viewers":false
    }
   }
  },
  {
   "cell_type":"code",
   "source":[
    "#Check List Table In Server\n",
    "dblisttables(con)"
   ],
   "execution_count":47,
   "outputs":[
    {
     "ename":"ERROR",
     "evalue":"ERROR: Error in dblisttables(con): could not find function \"dblisttables\"\n",
     "traceback":[
      "\u001b[0;31m---------------------------------------------------------------------------",
      "Traceback (most recent call last)",
      "ERROR: Error in dblisttables(con): could not find function \"dblisttables\"\n"
     ],
     "output_type":"error"
    }
   ],
   "metadata":{
    "datalore":{
     "node_id":"tbLTtuyZS1w3xCIv0YAyH4",
     "type":"CODE",
     "hide_input_from_viewers":false,
     "hide_output_from_viewers":false
    }
   }
  },
  {
   "cell_type":"code",
   "source":[
    "#Create dataframe\n",
    "food_fav <- data.frame(\n",
    "    id = 1:5,\n",
    "    food_names = c(\"Somtam\",\"Tomyum\",\"Noodle\",\"Salad\",\"Steak\"),\n",
    "    restaurant = c(\"Sompong food\",\"Kai Baan Cafe\",\"Bamboo restaurant\",\"Por Patep\",\"MK restaurant\")\n",
    ")"
   ],
   "execution_count":null,
   "outputs":[
    
   ],
   "metadata":{
    "datalore":{
     "node_id":"3JUIlHZE1TTx2mcwY0ikgf",
     "type":"CODE",
     "hide_input_from_viewers":false,
     "hide_output_from_viewers":false
    }
   }
  },
  {
   "cell_type":"code",
   "source":[
    "#Save Data\n",
    "dbWriteTable(con,\"My_food\",food_fav)"
   ],
   "execution_count":null,
   "outputs":[
    
   ],
   "metadata":{
    "datalore":{
     "node_id":"Ryba3Y0kuBdOfhxdbQ0yAq",
     "type":"CODE",
     "hide_input_from_viewers":false,
     "hide_output_from_viewers":false
    }
   }
  },
  {
   "cell_type":"code",
   "source":[
    "#Get data from server\n",
    "df <- dbGetQuery(con, \"SELECT * FROM My_food\")"
   ],
   "execution_count":null,
   "outputs":[
    
   ],
   "metadata":{
    "datalore":{
     "node_id":"C8GWQUNhtUq0r0iWj6Ndvu",
     "type":"CODE",
     "hide_input_from_viewers":false,
     "hide_output_from_viewers":false
    }
   }
  },
  {
   "cell_type":"code",
   "source":[
    "#Close Connection\n",
    "dbDisconnect(con)"
   ],
   "execution_count":null,
   "outputs":[
    
   ],
   "metadata":{
    "datalore":{
     "node_id":"1Q68Q15IJIEyD0cAnFshEw",
     "type":"CODE",
     "hide_input_from_viewers":false,
     "hide_output_from_viewers":false
    }
   }
  }
 ],
 "metadata":{
  "kernelspec":{
   "display_name":"R",
   "language":"r",
   "name":"ir"
  },
  "datalore":{
   "version":1,
   "computation_mode":"JUPYTER",
   "package_manager":"conda",
   "base_environment":"minimal",
   "packages":[
    
   ]
  }
 },
 "nbformat":4,
 "nbformat_minor":4
}