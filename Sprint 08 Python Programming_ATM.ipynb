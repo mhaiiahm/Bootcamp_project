{
  "cells": [
    {
      "cell_type": "code",
      "execution_count": null,
      "metadata": {
        "id": "7A4mQnxb4ezC"
      },
      "outputs": [],
      "source": [
        "print(\"Welcome to Mamai ATM Service!\")"
      ]
    },
    {
      "cell_type": "code",
      "execution_count": null,
      "metadata": {
        "colab": {
          "background_save": true,
          "base_uri": "https://localhost:8080/"
        },
        "id": "xmZvBVC04l-G",
        "outputId": "2c6498ac-7fea-492a-be6e-85f869e7b3ce"
      },
      "outputs": [
        {
          "name": "stdout",
          "output_type": "stream",
          "text": [
            "PIN Code\n"
          ]
        }
      ],
      "source": [
        "print(\"PIN Code\")\n",
        "Password = int(input(\"Enter a PIN:\"))"
      ]
    },
    {
      "cell_type": "code",
      "execution_count": null,
      "metadata": {
        "id": "heTH7S904qeD"
      },
      "outputs": [],
      "source": [
        "class ATM:\n",
        "    def __init__(self,name,balance:float,password:str):\n",
        "        self.name = name\n",
        "        self.balance = balance\n",
        "        self.password = password\n",
        "\n",
        "    def check_balance(self):\n",
        "        message = f\"Account: {self.names},Balnce:{self.balance} THB.\"\n",
        "        print(message,\"\\n\")\n",
        "    \n",
        "    def deposit(self, money:float):\n",
        "        self.balance +=money\n",
        "        print(f\"New Balance: {self.balance} THB.\")\n",
        "        print(\"Deposit Successfully.\\n\")\n",
        "    \n",
        "    def withdraw(self,money:float):\n",
        "        self.balance -=money\n",
        "        print(f\"New Balance: {self.balance} THB.\")\n",
        "        print(\"Withdraw Successfully.\\n\")\n",
        "\n",
        "    def transfer(self,money:float,payee:str):\n",
        "        self.balance -=money\n",
        "        print(f\"Transter to {payee}, {money} THB.\")\n",
        "        print(f\"New Balance: {self.balance} THB.\\n\")\n",
        "\n",
        "    def billpay(self,money:float,payee:str,fee:float):\n",
        "        self.balance=self.balance-money-fee\n",
        "        print(f\"Billpay to {payee},{money+fee} THB.\")\n",
        "        print(f\"New Balance:{self.balance} THB.\\n\")\n",
        "\n",
        "    def change_password(self,new_password:str):\n",
        "        self.password = new_password\n",
        "        print(f\"New Password:{self.password}\")\n",
        "        print(\"Your password has been changed.\")\n",
        "\n",
        "    def change_name(self,new_name:str):\n",
        "        self.name = new_name\n",
        "        print(f\"New name: {self.name}\")\n",
        "        print(\"Your account name has been changed.\\n\")"
      ]
    },
    {
      "cell_type": "code",
      "execution_count": null,
      "metadata": {
        "id": "20O_gL2r4xF4"
      },
      "outputs": [],
      "source": [
        "#set value\n",
        "customers = []\n",
        "deposit_value = 0\n",
        "withdraw_value = 0\n",
        "transfer_value = 0\n",
        "billpay_value = 0"
      ]
    },
    {
      "cell_type": "code",
      "execution_count": null,
      "metadata": {
        "colab": {
          "base_uri": "https://localhost:8080/"
        },
        "id": "sJluQ2qC4zIm",
        "outputId": "9cc7d323-b922-4553-d8d3-d94f48a991e4"
      },
      "outputs": [
        {
          "name": "stdout",
          "output_type": "stream",
          "text": [
            "Hello world\n",
            "Your name is: MM\n",
            "Balance: 5000\n",
            "PIN Code: 12345\n"
          ]
        }
      ],
      "source": [
        "#input data\n",
        "print(\"Hello world\")\n",
        "customers.append(input(\"Your name is: \"))\n",
        "customers.append(float(input(\"Balance: \")))\n",
        "customers.append(input(\"PIN Code: \"))\n",
        "bbl = ATM(customers[0],customers[1],customers[2])"
      ]
    },
    {
      "cell_type": "code",
      "execution_count": null,
      "metadata": {
        "colab": {
          "base_uri": "https://localhost:8080/"
        },
        "id": "36BPZ8Sq8AwH",
        "outputId": "f6fd1f88-870d-4da6-c5ad-75173d55319a"
      },
      "outputs": [
        {
          "name": "stdout",
          "output_type": "stream",
          "text": [
            "Do you want to change your password?(y/n): y\n",
            "Please enter 8 digits[0-9]: 14785236\n",
            "New Password:14785236\n",
            "Your password has been changed.\n"
          ]
        }
      ],
      "source": [
        "#New password\n",
        "changepassword = input(\"Do you want to change your password?(y/n): \").lower()\n",
        "if changepassword=='y':\n",
        "    len_pw = 8\n",
        "    while len_pw == 8:\n",
        "        new_pw=input(\"Please enter 8 digits[0-9]: \")\n",
        "        if len(new_pw)==len_pw:\n",
        "            bbl.change_password(new_pw)\n",
        "            break\n",
        "        else:\n",
        "            print(\"Invalid password!\")"
      ]
    },
    {
      "cell_type": "code",
      "execution_count": null,
      "metadata": {
        "colab": {
          "base_uri": "https://localhost:8080/"
        },
        "id": "CmIUyTnL6CIO",
        "outputId": "a7d05b99-e44a-4cf2-aa95-383df4c9cd17"
      },
      "outputs": [
        {
          "name": "stdout",
          "output_type": "stream",
          "text": [
            "Do you want to deposit?(y/n): y\n",
            "Deposit Amount: 2000\n",
            "New Balance: 7000.0 THB.\n",
            "Deposit Successfully.\n",
            "\n"
          ]
        }
      ],
      "source": [
        "#Deposit\n",
        "deposit = input(\"Do you want to deposit?(y/n): \").lower()\n",
        "if deposit=='y':\n",
        "    deposit_value = float(input(\"Deposit Amount: \"))\n",
        "    bbl.deposit(deposit_value)\n",
        "else:pass"
      ]
    },
    {
      "cell_type": "code",
      "execution_count": null,
      "metadata": {
        "colab": {
          "base_uri": "https://localhost:8080/"
        },
        "id": "Njs0nJjl6Ukb",
        "outputId": "00310202-799a-4d37-b0e2-14ef6e796e5a"
      },
      "outputs": [
        {
          "name": "stdout",
          "output_type": "stream",
          "text": [
            "Do you want to withdraw?(y/n): y\n",
            "Withdraw Amount: 200\n",
            "New Balance: 6800.0 THB.\n",
            "Withdraw Successfully.\n",
            "\n"
          ]
        }
      ],
      "source": [
        "#Withdraw\n",
        "withdraw = input(\"Do you want to withdraw?(y/n): \").lower()\n",
        "if withdraw=='y':\n",
        "    withdraw_value = float(input(\"Withdraw Amount: \"))\n",
        "    if withdraw_value<=100:\n",
        "        print(\"Minimum withdraw is 100 THB., Please Try again\")\n",
        "        withdraw_value = float(input(\"Withdraw Amount: \"))\n",
        "    if withdraw_value > (customers[1]+deposit_value):\n",
        "        print(\"Balance is not enough, please Try again\")\n",
        "        withdraw_value = float(input(\"Withdraw Amount: \"))    \n",
        "    else:bbl.withdraw(withdraw_value)\n",
        "else:pass"
      ]
    },
    {
      "cell_type": "code",
      "execution_count": null,
      "metadata": {
        "colab": {
          "base_uri": "https://localhost:8080/"
        },
        "id": "DjCfUise7jz4",
        "outputId": "0bb5a724-7df1-4206-e118-9ae8fb1b7f59"
      },
      "outputs": [
        {
          "name": "stdout",
          "output_type": "stream",
          "text": [
            "Do you want to transfer?(y/n): y\n",
            "Transfer Amount: 200\n",
            "Transfer to: 124589+\n",
            "Transter to 124589+, 200.0 THB.\n",
            "New Balance: 4600.0 THB.\n",
            "\n",
            "***Thank you***\n"
          ]
        }
      ],
      "source": [
        "#Transfer\n",
        "transfer = input(\"Do you want to transfer?(y/n): \").lower()\n",
        "if transfer=='y':\n",
        "    transfer_value = float(input(\"Transfer Amount: \"))\n",
        "    payee_name = (input(\"Transfer to: \"))\n",
        "    if transfer_value > (customers[1]+deposit_value-withdraw_value):\n",
        "        print(\"Balance is not enough, please Try again\")\n",
        "        transfer_value = float(input(\"Transfer Amount: \"))\n",
        "    else:bbl.transfer(transfer_value,payee_name)\n",
        "else:pass\n",
        "print(\"***Thank you***\")"
      ]
    }
  ],
  "metadata": {
    "colab": {
      "provenance": []
    },
    "kernelspec": {
      "display_name": "Python 3",
      "name": "python3"
    },
    "language_info": {
      "name": "python"
    }
  },
  "nbformat": 4,
  "nbformat_minor": 0
}